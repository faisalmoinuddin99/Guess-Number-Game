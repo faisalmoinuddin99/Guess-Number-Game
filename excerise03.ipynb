{
 "cells": [
  {
   "cell_type": "code",
   "execution_count": null,
   "metadata": {},
   "outputs": [],
   "source": [
    "# n = 18\n",
    "# no of guesses 9\n",
    "# print no of guesses left\n",
    "# No of guesses he took to finish\n",
    "# game over"
   ]
  },
  {
   "cell_type": "code",
   "execution_count": 10,
   "metadata": {},
   "outputs": [
    {
     "name": "stdout",
     "output_type": "stream",
     "text": [
      "User please pick any random number between 1 - 20\n",
      "6\n",
      "Hey! Guess the number ?5\n",
      "Smaller then Imagined Value!\n",
      "oops! try again you have 4 left\n",
      "Hey! Guess the number ?2\n",
      "Smaller then Imagined Value!\n",
      "oops! try again you have 3 left\n",
      "Hey! Guess the number ?1\n",
      "Smaller then Imagined Value!\n",
      "oops! try again you have 2 left\n",
      "Hey! Guess the number ?10\n",
      "Greater than Imagined Value!\n",
      "oops! try again you have 1 left\n",
      "Hey! Guess the number ?6\n",
      "Bingo! You Made it:)\n",
      "You took no of guesses = 5\n"
     ]
    }
   ],
   "source": [
    "print(\"User please pick any random number between 1 - 20\")\n",
    "n = int(input())\n",
    "\n",
    "i = 0\n",
    "count = 1\n",
    "\n",
    "no_of_guesses = 5\n",
    "while(True):\n",
    "    guess_no = int(input(f\"Hey! Guess the number ?\"))\n",
    "    if no_of_guesses == 0:\n",
    "        print(\"Sorry Game Over\")\n",
    "        break\n",
    "        \n",
    "    if guess_no != n:\n",
    "        if guess_no > n:\n",
    "            print(\"Greater than Imagined Value!\")\n",
    "        elif guess_no < n:\n",
    "            print(\"Smaller then Imagined Value!\")\n",
    "        i = i + 1\n",
    "        no_of_guesses -= 1\n",
    "        count +=1\n",
    "        print(f\"oops! try again you have {no_of_guesses} left\")\n",
    "        continue\n",
    "        \n",
    "    if guess_no == n:\n",
    "        print(\"Bingo! You Made it:)\")\n",
    "        print(f\"You took no of guesses = {count}\")\n",
    "        if count == 1:\n",
    "            print(\"Bravo You guessed in first attempt\")\n",
    "        break\n",
    "        \n",
    "        \n",
    "            \n",
    "   \n",
    "        \n",
    "        \n",
    "    \n",
    "        \n",
    "\n"
   ]
  },
  {
   "cell_type": "code",
   "execution_count": null,
   "metadata": {},
   "outputs": [],
   "source": []
  },
  {
   "cell_type": "code",
   "execution_count": null,
   "metadata": {},
   "outputs": [],
   "source": []
  },
  {
   "cell_type": "code",
   "execution_count": null,
   "metadata": {},
   "outputs": [],
   "source": []
  }
 ],
 "metadata": {
  "kernelspec": {
   "display_name": "Python 3",
   "language": "python",
   "name": "python3"
  },
  "language_info": {
   "codemirror_mode": {
    "name": "ipython",
    "version": 3
   },
   "file_extension": ".py",
   "mimetype": "text/x-python",
   "name": "python",
   "nbconvert_exporter": "python",
   "pygments_lexer": "ipython3",
   "version": "3.7.4"
  }
 },
 "nbformat": 4,
 "nbformat_minor": 2
}
